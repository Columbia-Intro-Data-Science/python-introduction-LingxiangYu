{
 "cells": [
  {
   "cell_type": "markdown",
   "metadata": {},
   "source": [
    "# Introduction\n",
    "\n",
    "\n",
    "In this homework, you'll be required to load in a dataset which has about 500 features. By using\n",
    "Lasso ($L^1$) regression, we'll find the optimal constraint on the $L^1$ norm which gives us the best\n",
    "$R^2$. Then we'll plot the results.\n",
    "\n",
    "Recall we minimize the following on ** training data: $(x_i,y_i)$**\n",
    "\n",
    "$$\\min_{\\beta} \\frac{1}{N} \\sum_{i=1}^N (y_i - \\beta \\cdot x_i)^2 + \\lambda \\|\\beta \\|_{L^1}.$$\n",
    "\n",
    "\n",
    "Denoting $\\beta_{\\lambda}$ as the minimum of the above, we then choose $\\lambda$ to maximize $R^2$ on **testing data: $(x_j,y_j)$**\n",
    "\n",
    "$$ \\max_{\\lambda} 1 - \\frac{\\sum_{j} (y_j - \\beta_{\\lambda} \\cdot x_j)^2}{\\sum_j (y_j - \\bar y)^2}$$\n"
   ]
  },
  {
   "cell_type": "markdown",
   "metadata": {},
   "source": [
    "# Lasso Regularization"
   ]
  },
  {
   "cell_type": "markdown",
   "metadata": {},
   "source": [
    "## Problem 1"
   ]
  },
  {
   "cell_type": "markdown",
   "metadata": {},
   "source": [
    "a) Load in hw2data.csv from ../data into a pandas dataframe."
   ]
  },
  {
   "cell_type": "code",
   "execution_count": 1,
   "metadata": {
    "collapsed": false
   },
   "outputs": [
    {
     "data": {
      "text/html": [
       "<div>\n",
       "<table border=\"1\" class=\"dataframe\">\n",
       "  <thead>\n",
       "    <tr style=\"text-align: right;\">\n",
       "      <th></th>\n",
       "      <th>0</th>\n",
       "      <th>1</th>\n",
       "      <th>2</th>\n",
       "      <th>3</th>\n",
       "      <th>4</th>\n",
       "      <th>5</th>\n",
       "      <th>6</th>\n",
       "      <th>7</th>\n",
       "      <th>8</th>\n",
       "      <th>9</th>\n",
       "      <th>...</th>\n",
       "      <th>491</th>\n",
       "      <th>492</th>\n",
       "      <th>493</th>\n",
       "      <th>494</th>\n",
       "      <th>495</th>\n",
       "      <th>496</th>\n",
       "      <th>497</th>\n",
       "      <th>498</th>\n",
       "      <th>499</th>\n",
       "      <th>y</th>\n",
       "    </tr>\n",
       "  </thead>\n",
       "  <tbody>\n",
       "    <tr>\n",
       "      <th>0</th>\n",
       "      <td>0.382732</td>\n",
       "      <td>-0.034242</td>\n",
       "      <td>1.096347</td>\n",
       "      <td>-0.234216</td>\n",
       "      <td>-0.347451</td>\n",
       "      <td>-0.581268</td>\n",
       "      <td>-1.632635</td>\n",
       "      <td>-1.567768</td>\n",
       "      <td>-1.179158</td>\n",
       "      <td>1.301428</td>\n",
       "      <td>...</td>\n",
       "      <td>0.178793</td>\n",
       "      <td>-0.799422</td>\n",
       "      <td>0.240788</td>\n",
       "      <td>0.289121</td>\n",
       "      <td>0.412871</td>\n",
       "      <td>-0.198399</td>\n",
       "      <td>0.094192</td>\n",
       "      <td>-1.147611</td>\n",
       "      <td>-0.358114</td>\n",
       "      <td>-2.663126</td>\n",
       "    </tr>\n",
       "    <tr>\n",
       "      <th>1</th>\n",
       "      <td>0.555963</td>\n",
       "      <td>0.892474</td>\n",
       "      <td>-0.422315</td>\n",
       "      <td>0.104714</td>\n",
       "      <td>0.228053</td>\n",
       "      <td>0.201480</td>\n",
       "      <td>0.540774</td>\n",
       "      <td>-1.818078</td>\n",
       "      <td>-0.049324</td>\n",
       "      <td>0.239034</td>\n",
       "      <td>...</td>\n",
       "      <td>-0.740137</td>\n",
       "      <td>-0.565498</td>\n",
       "      <td>0.476031</td>\n",
       "      <td>-2.158069</td>\n",
       "      <td>1.318551</td>\n",
       "      <td>-0.239297</td>\n",
       "      <td>-0.246794</td>\n",
       "      <td>-1.079343</td>\n",
       "      <td>-0.114226</td>\n",
       "      <td>10.399650</td>\n",
       "    </tr>\n",
       "    <tr>\n",
       "      <th>2</th>\n",
       "      <td>0.013240</td>\n",
       "      <td>-0.121945</td>\n",
       "      <td>0.339059</td>\n",
       "      <td>-0.589632</td>\n",
       "      <td>-0.895816</td>\n",
       "      <td>0.548328</td>\n",
       "      <td>0.098667</td>\n",
       "      <td>0.197181</td>\n",
       "      <td>1.059027</td>\n",
       "      <td>-1.022564</td>\n",
       "      <td>...</td>\n",
       "      <td>-0.739936</td>\n",
       "      <td>1.315138</td>\n",
       "      <td>-0.323457</td>\n",
       "      <td>0.197828</td>\n",
       "      <td>0.097751</td>\n",
       "      <td>1.401523</td>\n",
       "      <td>0.158434</td>\n",
       "      <td>-1.141901</td>\n",
       "      <td>-1.310970</td>\n",
       "      <td>-21.762801</td>\n",
       "    </tr>\n",
       "    <tr>\n",
       "      <th>3</th>\n",
       "      <td>-1.532921</td>\n",
       "      <td>-1.711970</td>\n",
       "      <td>0.046135</td>\n",
       "      <td>-0.958374</td>\n",
       "      <td>-0.080812</td>\n",
       "      <td>-0.703859</td>\n",
       "      <td>-0.770784</td>\n",
       "      <td>-0.480845</td>\n",
       "      <td>0.703586</td>\n",
       "      <td>0.929145</td>\n",
       "      <td>...</td>\n",
       "      <td>0.473488</td>\n",
       "      <td>1.855246</td>\n",
       "      <td>1.415656</td>\n",
       "      <td>-0.302746</td>\n",
       "      <td>0.989679</td>\n",
       "      <td>0.585851</td>\n",
       "      <td>1.136388</td>\n",
       "      <td>0.671617</td>\n",
       "      <td>-0.974167</td>\n",
       "      <td>2.139453</td>\n",
       "    </tr>\n",
       "    <tr>\n",
       "      <th>4</th>\n",
       "      <td>-1.619685</td>\n",
       "      <td>0.572627</td>\n",
       "      <td>1.902618</td>\n",
       "      <td>-0.775664</td>\n",
       "      <td>-0.188090</td>\n",
       "      <td>-1.035748</td>\n",
       "      <td>1.177830</td>\n",
       "      <td>-2.305167</td>\n",
       "      <td>-2.263660</td>\n",
       "      <td>0.375020</td>\n",
       "      <td>...</td>\n",
       "      <td>-1.303220</td>\n",
       "      <td>0.466751</td>\n",
       "      <td>0.161106</td>\n",
       "      <td>0.320032</td>\n",
       "      <td>2.079177</td>\n",
       "      <td>-0.907466</td>\n",
       "      <td>-0.192404</td>\n",
       "      <td>-1.212516</td>\n",
       "      <td>-0.080599</td>\n",
       "      <td>0.194017</td>\n",
       "    </tr>\n",
       "    <tr>\n",
       "      <th>5</th>\n",
       "      <td>1.593274</td>\n",
       "      <td>0.568722</td>\n",
       "      <td>-0.114487</td>\n",
       "      <td>0.251630</td>\n",
       "      <td>-1.210856</td>\n",
       "      <td>-0.393734</td>\n",
       "      <td>0.085253</td>\n",
       "      <td>0.099422</td>\n",
       "      <td>-1.530616</td>\n",
       "      <td>0.327623</td>\n",
       "      <td>...</td>\n",
       "      <td>1.363743</td>\n",
       "      <td>0.374138</td>\n",
       "      <td>1.310265</td>\n",
       "      <td>-0.267748</td>\n",
       "      <td>0.213176</td>\n",
       "      <td>-1.203243</td>\n",
       "      <td>1.178031</td>\n",
       "      <td>0.108648</td>\n",
       "      <td>0.044129</td>\n",
       "      <td>9.640786</td>\n",
       "    </tr>\n",
       "    <tr>\n",
       "      <th>6</th>\n",
       "      <td>0.338316</td>\n",
       "      <td>1.446792</td>\n",
       "      <td>-0.214495</td>\n",
       "      <td>1.663039</td>\n",
       "      <td>-0.851523</td>\n",
       "      <td>0.422185</td>\n",
       "      <td>2.009219</td>\n",
       "      <td>-0.489815</td>\n",
       "      <td>0.245256</td>\n",
       "      <td>0.877505</td>\n",
       "      <td>...</td>\n",
       "      <td>0.576479</td>\n",
       "      <td>0.065306</td>\n",
       "      <td>-0.773513</td>\n",
       "      <td>0.394948</td>\n",
       "      <td>-0.503890</td>\n",
       "      <td>1.779559</td>\n",
       "      <td>-0.030572</td>\n",
       "      <td>1.577088</td>\n",
       "      <td>-0.812802</td>\n",
       "      <td>4.490042</td>\n",
       "    </tr>\n",
       "    <tr>\n",
       "      <th>7</th>\n",
       "      <td>0.613349</td>\n",
       "      <td>1.843700</td>\n",
       "      <td>0.271091</td>\n",
       "      <td>1.136448</td>\n",
       "      <td>-1.738332</td>\n",
       "      <td>0.707135</td>\n",
       "      <td>0.030386</td>\n",
       "      <td>0.765002</td>\n",
       "      <td>0.867665</td>\n",
       "      <td>-2.256250</td>\n",
       "      <td>...</td>\n",
       "      <td>-0.034404</td>\n",
       "      <td>0.519269</td>\n",
       "      <td>-0.672583</td>\n",
       "      <td>1.173611</td>\n",
       "      <td>-1.592229</td>\n",
       "      <td>-0.013649</td>\n",
       "      <td>-0.098345</td>\n",
       "      <td>0.849877</td>\n",
       "      <td>-0.494986</td>\n",
       "      <td>-0.657482</td>\n",
       "    </tr>\n",
       "    <tr>\n",
       "      <th>8</th>\n",
       "      <td>1.068731</td>\n",
       "      <td>-0.233866</td>\n",
       "      <td>-0.101805</td>\n",
       "      <td>-0.149077</td>\n",
       "      <td>0.698096</td>\n",
       "      <td>0.853148</td>\n",
       "      <td>-0.604741</td>\n",
       "      <td>-1.408891</td>\n",
       "      <td>-0.981102</td>\n",
       "      <td>0.165183</td>\n",
       "      <td>...</td>\n",
       "      <td>0.424889</td>\n",
       "      <td>-0.271260</td>\n",
       "      <td>-0.683568</td>\n",
       "      <td>-1.537438</td>\n",
       "      <td>-0.101374</td>\n",
       "      <td>0.746666</td>\n",
       "      <td>0.929182</td>\n",
       "      <td>0.229418</td>\n",
       "      <td>0.414406</td>\n",
       "      <td>0.073541</td>\n",
       "    </tr>\n",
       "    <tr>\n",
       "      <th>9</th>\n",
       "      <td>0.309724</td>\n",
       "      <td>-0.737456</td>\n",
       "      <td>-1.536920</td>\n",
       "      <td>-0.562255</td>\n",
       "      <td>-1.599511</td>\n",
       "      <td>0.824390</td>\n",
       "      <td>2.491486</td>\n",
       "      <td>1.011855</td>\n",
       "      <td>-0.281238</td>\n",
       "      <td>0.016707</td>\n",
       "      <td>...</td>\n",
       "      <td>1.260308</td>\n",
       "      <td>0.332623</td>\n",
       "      <td>2.495995</td>\n",
       "      <td>0.334872</td>\n",
       "      <td>0.244085</td>\n",
       "      <td>-1.081475</td>\n",
       "      <td>-1.671211</td>\n",
       "      <td>1.029452</td>\n",
       "      <td>-0.395552</td>\n",
       "      <td>-13.133014</td>\n",
       "    </tr>\n",
       "  </tbody>\n",
       "</table>\n",
       "<p>10 rows × 501 columns</p>\n",
       "</div>"
      ],
      "text/plain": [
       "          0         1         2         3         4         5         6  \\\n",
       "0  0.382732 -0.034242  1.096347 -0.234216 -0.347451 -0.581268 -1.632635   \n",
       "1  0.555963  0.892474 -0.422315  0.104714  0.228053  0.201480  0.540774   \n",
       "2  0.013240 -0.121945  0.339059 -0.589632 -0.895816  0.548328  0.098667   \n",
       "3 -1.532921 -1.711970  0.046135 -0.958374 -0.080812 -0.703859 -0.770784   \n",
       "4 -1.619685  0.572627  1.902618 -0.775664 -0.188090 -1.035748  1.177830   \n",
       "5  1.593274  0.568722 -0.114487  0.251630 -1.210856 -0.393734  0.085253   \n",
       "6  0.338316  1.446792 -0.214495  1.663039 -0.851523  0.422185  2.009219   \n",
       "7  0.613349  1.843700  0.271091  1.136448 -1.738332  0.707135  0.030386   \n",
       "8  1.068731 -0.233866 -0.101805 -0.149077  0.698096  0.853148 -0.604741   \n",
       "9  0.309724 -0.737456 -1.536920 -0.562255 -1.599511  0.824390  2.491486   \n",
       "\n",
       "          7         8         9    ...           491       492       493  \\\n",
       "0 -1.567768 -1.179158  1.301428    ...      0.178793 -0.799422  0.240788   \n",
       "1 -1.818078 -0.049324  0.239034    ...     -0.740137 -0.565498  0.476031   \n",
       "2  0.197181  1.059027 -1.022564    ...     -0.739936  1.315138 -0.323457   \n",
       "3 -0.480845  0.703586  0.929145    ...      0.473488  1.855246  1.415656   \n",
       "4 -2.305167 -2.263660  0.375020    ...     -1.303220  0.466751  0.161106   \n",
       "5  0.099422 -1.530616  0.327623    ...      1.363743  0.374138  1.310265   \n",
       "6 -0.489815  0.245256  0.877505    ...      0.576479  0.065306 -0.773513   \n",
       "7  0.765002  0.867665 -2.256250    ...     -0.034404  0.519269 -0.672583   \n",
       "8 -1.408891 -0.981102  0.165183    ...      0.424889 -0.271260 -0.683568   \n",
       "9  1.011855 -0.281238  0.016707    ...      1.260308  0.332623  2.495995   \n",
       "\n",
       "        494       495       496       497       498       499          y  \n",
       "0  0.289121  0.412871 -0.198399  0.094192 -1.147611 -0.358114  -2.663126  \n",
       "1 -2.158069  1.318551 -0.239297 -0.246794 -1.079343 -0.114226  10.399650  \n",
       "2  0.197828  0.097751  1.401523  0.158434 -1.141901 -1.310970 -21.762801  \n",
       "3 -0.302746  0.989679  0.585851  1.136388  0.671617 -0.974167   2.139453  \n",
       "4  0.320032  2.079177 -0.907466 -0.192404 -1.212516 -0.080599   0.194017  \n",
       "5 -0.267748  0.213176 -1.203243  1.178031  0.108648  0.044129   9.640786  \n",
       "6  0.394948 -0.503890  1.779559 -0.030572  1.577088 -0.812802   4.490042  \n",
       "7  1.173611 -1.592229 -0.013649 -0.098345  0.849877 -0.494986  -0.657482  \n",
       "8 -1.537438 -0.101374  0.746666  0.929182  0.229418  0.414406   0.073541  \n",
       "9  0.334872  0.244085 -1.081475 -1.671211  1.029452 -0.395552 -13.133014  \n",
       "\n",
       "[10 rows x 501 columns]"
      ]
     },
     "execution_count": 1,
     "metadata": {},
     "output_type": "execute_result"
    }
   ],
   "source": [
    "import matplotlib.pyplot as plt\n",
    "import numpy as np\n",
    "import pandas as pd\n",
    "%matplotlib inline\n",
    "\n",
    "data = pd.read_csv('../newrepo/APMAE4990-/data/hw2data.csv')\n",
    "data = pd.DataFrame(data)\n",
    "data.head(n=10)"
   ]
  },
  {
   "cell_type": "markdown",
   "metadata": {},
   "source": [
    "b) Set y to be the y variable in the dataframe from a and X to be the remaining features."
   ]
  },
  {
   "cell_type": "code",
   "execution_count": 2,
   "metadata": {
    "collapsed": false
   },
   "outputs": [
    {
     "name": "stdout",
     "output_type": "stream",
     "text": [
      "           y\n",
      "0  -2.663126\n",
      "1  10.399650\n",
      "2 -21.762801\n",
      "3   2.139453\n",
      "4   0.194017\n",
      "5   9.640786\n",
      "6   4.490042\n",
      "7  -0.657482\n",
      "8   0.073541\n",
      "9 -13.133014\n"
     ]
    },
    {
     "data": {
      "text/html": [
       "<div>\n",
       "<table border=\"1\" class=\"dataframe\">\n",
       "  <thead>\n",
       "    <tr style=\"text-align: right;\">\n",
       "      <th></th>\n",
       "      <th>0</th>\n",
       "      <th>1</th>\n",
       "      <th>2</th>\n",
       "      <th>3</th>\n",
       "      <th>4</th>\n",
       "      <th>5</th>\n",
       "      <th>6</th>\n",
       "      <th>7</th>\n",
       "      <th>8</th>\n",
       "      <th>9</th>\n",
       "      <th>...</th>\n",
       "      <th>490</th>\n",
       "      <th>491</th>\n",
       "      <th>492</th>\n",
       "      <th>493</th>\n",
       "      <th>494</th>\n",
       "      <th>495</th>\n",
       "      <th>496</th>\n",
       "      <th>497</th>\n",
       "      <th>498</th>\n",
       "      <th>499</th>\n",
       "    </tr>\n",
       "  </thead>\n",
       "  <tbody>\n",
       "    <tr>\n",
       "      <th>0</th>\n",
       "      <td>0.382732</td>\n",
       "      <td>-0.034242</td>\n",
       "      <td>1.096347</td>\n",
       "      <td>-0.234216</td>\n",
       "      <td>-0.347451</td>\n",
       "      <td>-0.581268</td>\n",
       "      <td>-1.632635</td>\n",
       "      <td>-1.567768</td>\n",
       "      <td>-1.179158</td>\n",
       "      <td>1.301428</td>\n",
       "      <td>...</td>\n",
       "      <td>0.441033</td>\n",
       "      <td>0.178793</td>\n",
       "      <td>-0.799422</td>\n",
       "      <td>0.240788</td>\n",
       "      <td>0.289121</td>\n",
       "      <td>0.412871</td>\n",
       "      <td>-0.198399</td>\n",
       "      <td>0.094192</td>\n",
       "      <td>-1.147611</td>\n",
       "      <td>-0.358114</td>\n",
       "    </tr>\n",
       "    <tr>\n",
       "      <th>1</th>\n",
       "      <td>0.555963</td>\n",
       "      <td>0.892474</td>\n",
       "      <td>-0.422315</td>\n",
       "      <td>0.104714</td>\n",
       "      <td>0.228053</td>\n",
       "      <td>0.201480</td>\n",
       "      <td>0.540774</td>\n",
       "      <td>-1.818078</td>\n",
       "      <td>-0.049324</td>\n",
       "      <td>0.239034</td>\n",
       "      <td>...</td>\n",
       "      <td>-0.998849</td>\n",
       "      <td>-0.740137</td>\n",
       "      <td>-0.565498</td>\n",
       "      <td>0.476031</td>\n",
       "      <td>-2.158069</td>\n",
       "      <td>1.318551</td>\n",
       "      <td>-0.239297</td>\n",
       "      <td>-0.246794</td>\n",
       "      <td>-1.079343</td>\n",
       "      <td>-0.114226</td>\n",
       "    </tr>\n",
       "    <tr>\n",
       "      <th>2</th>\n",
       "      <td>0.013240</td>\n",
       "      <td>-0.121945</td>\n",
       "      <td>0.339059</td>\n",
       "      <td>-0.589632</td>\n",
       "      <td>-0.895816</td>\n",
       "      <td>0.548328</td>\n",
       "      <td>0.098667</td>\n",
       "      <td>0.197181</td>\n",
       "      <td>1.059027</td>\n",
       "      <td>-1.022564</td>\n",
       "      <td>...</td>\n",
       "      <td>1.342622</td>\n",
       "      <td>-0.739936</td>\n",
       "      <td>1.315138</td>\n",
       "      <td>-0.323457</td>\n",
       "      <td>0.197828</td>\n",
       "      <td>0.097751</td>\n",
       "      <td>1.401523</td>\n",
       "      <td>0.158434</td>\n",
       "      <td>-1.141901</td>\n",
       "      <td>-1.310970</td>\n",
       "    </tr>\n",
       "    <tr>\n",
       "      <th>3</th>\n",
       "      <td>-1.532921</td>\n",
       "      <td>-1.711970</td>\n",
       "      <td>0.046135</td>\n",
       "      <td>-0.958374</td>\n",
       "      <td>-0.080812</td>\n",
       "      <td>-0.703859</td>\n",
       "      <td>-0.770784</td>\n",
       "      <td>-0.480845</td>\n",
       "      <td>0.703586</td>\n",
       "      <td>0.929145</td>\n",
       "      <td>...</td>\n",
       "      <td>0.140811</td>\n",
       "      <td>0.473488</td>\n",
       "      <td>1.855246</td>\n",
       "      <td>1.415656</td>\n",
       "      <td>-0.302746</td>\n",
       "      <td>0.989679</td>\n",
       "      <td>0.585851</td>\n",
       "      <td>1.136388</td>\n",
       "      <td>0.671617</td>\n",
       "      <td>-0.974167</td>\n",
       "    </tr>\n",
       "    <tr>\n",
       "      <th>4</th>\n",
       "      <td>-1.619685</td>\n",
       "      <td>0.572627</td>\n",
       "      <td>1.902618</td>\n",
       "      <td>-0.775664</td>\n",
       "      <td>-0.188090</td>\n",
       "      <td>-1.035748</td>\n",
       "      <td>1.177830</td>\n",
       "      <td>-2.305167</td>\n",
       "      <td>-2.263660</td>\n",
       "      <td>0.375020</td>\n",
       "      <td>...</td>\n",
       "      <td>-0.340560</td>\n",
       "      <td>-1.303220</td>\n",
       "      <td>0.466751</td>\n",
       "      <td>0.161106</td>\n",
       "      <td>0.320032</td>\n",
       "      <td>2.079177</td>\n",
       "      <td>-0.907466</td>\n",
       "      <td>-0.192404</td>\n",
       "      <td>-1.212516</td>\n",
       "      <td>-0.080599</td>\n",
       "    </tr>\n",
       "    <tr>\n",
       "      <th>5</th>\n",
       "      <td>1.593274</td>\n",
       "      <td>0.568722</td>\n",
       "      <td>-0.114487</td>\n",
       "      <td>0.251630</td>\n",
       "      <td>-1.210856</td>\n",
       "      <td>-0.393734</td>\n",
       "      <td>0.085253</td>\n",
       "      <td>0.099422</td>\n",
       "      <td>-1.530616</td>\n",
       "      <td>0.327623</td>\n",
       "      <td>...</td>\n",
       "      <td>-0.277940</td>\n",
       "      <td>1.363743</td>\n",
       "      <td>0.374138</td>\n",
       "      <td>1.310265</td>\n",
       "      <td>-0.267748</td>\n",
       "      <td>0.213176</td>\n",
       "      <td>-1.203243</td>\n",
       "      <td>1.178031</td>\n",
       "      <td>0.108648</td>\n",
       "      <td>0.044129</td>\n",
       "    </tr>\n",
       "    <tr>\n",
       "      <th>6</th>\n",
       "      <td>0.338316</td>\n",
       "      <td>1.446792</td>\n",
       "      <td>-0.214495</td>\n",
       "      <td>1.663039</td>\n",
       "      <td>-0.851523</td>\n",
       "      <td>0.422185</td>\n",
       "      <td>2.009219</td>\n",
       "      <td>-0.489815</td>\n",
       "      <td>0.245256</td>\n",
       "      <td>0.877505</td>\n",
       "      <td>...</td>\n",
       "      <td>-1.468367</td>\n",
       "      <td>0.576479</td>\n",
       "      <td>0.065306</td>\n",
       "      <td>-0.773513</td>\n",
       "      <td>0.394948</td>\n",
       "      <td>-0.503890</td>\n",
       "      <td>1.779559</td>\n",
       "      <td>-0.030572</td>\n",
       "      <td>1.577088</td>\n",
       "      <td>-0.812802</td>\n",
       "    </tr>\n",
       "    <tr>\n",
       "      <th>7</th>\n",
       "      <td>0.613349</td>\n",
       "      <td>1.843700</td>\n",
       "      <td>0.271091</td>\n",
       "      <td>1.136448</td>\n",
       "      <td>-1.738332</td>\n",
       "      <td>0.707135</td>\n",
       "      <td>0.030386</td>\n",
       "      <td>0.765002</td>\n",
       "      <td>0.867665</td>\n",
       "      <td>-2.256250</td>\n",
       "      <td>...</td>\n",
       "      <td>-0.339033</td>\n",
       "      <td>-0.034404</td>\n",
       "      <td>0.519269</td>\n",
       "      <td>-0.672583</td>\n",
       "      <td>1.173611</td>\n",
       "      <td>-1.592229</td>\n",
       "      <td>-0.013649</td>\n",
       "      <td>-0.098345</td>\n",
       "      <td>0.849877</td>\n",
       "      <td>-0.494986</td>\n",
       "    </tr>\n",
       "    <tr>\n",
       "      <th>8</th>\n",
       "      <td>1.068731</td>\n",
       "      <td>-0.233866</td>\n",
       "      <td>-0.101805</td>\n",
       "      <td>-0.149077</td>\n",
       "      <td>0.698096</td>\n",
       "      <td>0.853148</td>\n",
       "      <td>-0.604741</td>\n",
       "      <td>-1.408891</td>\n",
       "      <td>-0.981102</td>\n",
       "      <td>0.165183</td>\n",
       "      <td>...</td>\n",
       "      <td>-0.573367</td>\n",
       "      <td>0.424889</td>\n",
       "      <td>-0.271260</td>\n",
       "      <td>-0.683568</td>\n",
       "      <td>-1.537438</td>\n",
       "      <td>-0.101374</td>\n",
       "      <td>0.746666</td>\n",
       "      <td>0.929182</td>\n",
       "      <td>0.229418</td>\n",
       "      <td>0.414406</td>\n",
       "    </tr>\n",
       "    <tr>\n",
       "      <th>9</th>\n",
       "      <td>0.309724</td>\n",
       "      <td>-0.737456</td>\n",
       "      <td>-1.536920</td>\n",
       "      <td>-0.562255</td>\n",
       "      <td>-1.599511</td>\n",
       "      <td>0.824390</td>\n",
       "      <td>2.491486</td>\n",
       "      <td>1.011855</td>\n",
       "      <td>-0.281238</td>\n",
       "      <td>0.016707</td>\n",
       "      <td>...</td>\n",
       "      <td>0.193950</td>\n",
       "      <td>1.260308</td>\n",
       "      <td>0.332623</td>\n",
       "      <td>2.495995</td>\n",
       "      <td>0.334872</td>\n",
       "      <td>0.244085</td>\n",
       "      <td>-1.081475</td>\n",
       "      <td>-1.671211</td>\n",
       "      <td>1.029452</td>\n",
       "      <td>-0.395552</td>\n",
       "    </tr>\n",
       "  </tbody>\n",
       "</table>\n",
       "<p>10 rows × 500 columns</p>\n",
       "</div>"
      ],
      "text/plain": [
       "          0         1         2         3         4         5         6  \\\n",
       "0  0.382732 -0.034242  1.096347 -0.234216 -0.347451 -0.581268 -1.632635   \n",
       "1  0.555963  0.892474 -0.422315  0.104714  0.228053  0.201480  0.540774   \n",
       "2  0.013240 -0.121945  0.339059 -0.589632 -0.895816  0.548328  0.098667   \n",
       "3 -1.532921 -1.711970  0.046135 -0.958374 -0.080812 -0.703859 -0.770784   \n",
       "4 -1.619685  0.572627  1.902618 -0.775664 -0.188090 -1.035748  1.177830   \n",
       "5  1.593274  0.568722 -0.114487  0.251630 -1.210856 -0.393734  0.085253   \n",
       "6  0.338316  1.446792 -0.214495  1.663039 -0.851523  0.422185  2.009219   \n",
       "7  0.613349  1.843700  0.271091  1.136448 -1.738332  0.707135  0.030386   \n",
       "8  1.068731 -0.233866 -0.101805 -0.149077  0.698096  0.853148 -0.604741   \n",
       "9  0.309724 -0.737456 -1.536920 -0.562255 -1.599511  0.824390  2.491486   \n",
       "\n",
       "          7         8         9    ...          490       491       492  \\\n",
       "0 -1.567768 -1.179158  1.301428    ...     0.441033  0.178793 -0.799422   \n",
       "1 -1.818078 -0.049324  0.239034    ...    -0.998849 -0.740137 -0.565498   \n",
       "2  0.197181  1.059027 -1.022564    ...     1.342622 -0.739936  1.315138   \n",
       "3 -0.480845  0.703586  0.929145    ...     0.140811  0.473488  1.855246   \n",
       "4 -2.305167 -2.263660  0.375020    ...    -0.340560 -1.303220  0.466751   \n",
       "5  0.099422 -1.530616  0.327623    ...    -0.277940  1.363743  0.374138   \n",
       "6 -0.489815  0.245256  0.877505    ...    -1.468367  0.576479  0.065306   \n",
       "7  0.765002  0.867665 -2.256250    ...    -0.339033 -0.034404  0.519269   \n",
       "8 -1.408891 -0.981102  0.165183    ...    -0.573367  0.424889 -0.271260   \n",
       "9  1.011855 -0.281238  0.016707    ...     0.193950  1.260308  0.332623   \n",
       "\n",
       "        493       494       495       496       497       498       499  \n",
       "0  0.240788  0.289121  0.412871 -0.198399  0.094192 -1.147611 -0.358114  \n",
       "1  0.476031 -2.158069  1.318551 -0.239297 -0.246794 -1.079343 -0.114226  \n",
       "2 -0.323457  0.197828  0.097751  1.401523  0.158434 -1.141901 -1.310970  \n",
       "3  1.415656 -0.302746  0.989679  0.585851  1.136388  0.671617 -0.974167  \n",
       "4  0.161106  0.320032  2.079177 -0.907466 -0.192404 -1.212516 -0.080599  \n",
       "5  1.310265 -0.267748  0.213176 -1.203243  1.178031  0.108648  0.044129  \n",
       "6 -0.773513  0.394948 -0.503890  1.779559 -0.030572  1.577088 -0.812802  \n",
       "7 -0.672583  1.173611 -1.592229 -0.013649 -0.098345  0.849877 -0.494986  \n",
       "8 -0.683568 -1.537438 -0.101374  0.746666  0.929182  0.229418  0.414406  \n",
       "9  2.495995  0.334872  0.244085 -1.081475 -1.671211  1.029452 -0.395552  \n",
       "\n",
       "[10 rows x 500 columns]"
      ]
     },
     "execution_count": 2,
     "metadata": {},
     "output_type": "execute_result"
    }
   ],
   "source": [
    "y = data[['y']]\n",
    "print(y.head(n=10))\n",
    "\n",
    "X =data.drop('y',axis=1)\n",
    "X.head(n=10)"
   ]
  },
  {
   "cell_type": "markdown",
   "metadata": {},
   "source": [
    "c) As shown in the Booking.com example, using Lasso regression, find the regularization strength\n",
    "which optimizes the $R^2$. \n",
    "\n",
    "**Hint:** Take a range of alpha from `np.logspace(-8,-3,1000)`"
   ]
  },
  {
   "cell_type": "code",
   "execution_count": 3,
   "metadata": {
    "collapsed": false
   },
   "outputs": [
    {
     "name": "stderr",
     "output_type": "stream",
     "text": [
      "/Users/lingxiangyu/anaconda/lib/python2.7/site-packages/sklearn/linear_model/coordinate_descent.py:484: ConvergenceWarning: Objective did not converge. You might want to increase the number of iterations. Fitting data with very small alpha may cause precision problems.\n",
      "  ConvergenceWarning)\n"
     ]
    },
    {
     "name": "stdout",
     "output_type": "stream",
     "text": [
      "The optimazed alpha is  0.000767158117678\n"
     ]
    }
   ],
   "source": [
    "y_train = y[:int(0.8*len(y))]\n",
    "y_test = y[int(0.8*len(y)):]\n",
    "\n",
    "X_train = X[:int(0.8*len(X))]\n",
    "X_test = X[int(0.8*len(X)):]\n",
    "\n",
    "alphas = np.logspace(-8,-3,1000)\n",
    "from sklearn.linear_model import Lasso\n",
    "scores = []\n",
    "\n",
    "for alpha in alphas:\n",
    "    regr = Lasso(alpha=alpha)\n",
    "    regr.fit(X_train, y_train)\n",
    "    scores.append(regr.score(X_test,y_test))\n",
    "\n",
    "best_alpha_index = np.argmax(scores)\n",
    "print 'The optimazed alpha is ', alphas[best_alpha_index]"
   ]
  },
  {
   "cell_type": "markdown",
   "metadata": {},
   "source": [
    "d) Plot the training perforamnce versus the testing performance, and observe whree the test performance is\n",
    "maximized. I've written an outline of the code you need."
   ]
  },
  {
   "cell_type": "code",
   "execution_count": 4,
   "metadata": {
    "collapsed": false
   },
   "outputs": [
    {
     "data": {
      "image/png": "[encoded data removed]",
      "text/plain": [
       "<matplotlib.figure.Figure at 0x117be3190>"
      ]
     },
     "metadata": {},
     "output_type": "display_data"
    }
   ],
   "source": [
    "train_error = []\n",
    "test_error = []\n",
    "\n",
    "for alpha in alphas:\n",
    "    regr1 = Lasso(alpha=alpha)\n",
    "    regr1.fit(X_train, y_train)\n",
    "    train_error.append(regr1.score(X_train, y_train))\n",
    "    test_error.append(regr1.score(X_test, y_test))\n",
    "    \n",
    "best_alpha2_index = np.argmax(test_error)\n",
    "best_alpha2 = alphas[best_alpha2_index]\n",
    "\n",
    "#plt.subplot(2, 1, 1)\n",
    "\n",
    "plt.semilogx(alphas, train_error, label='Train')\n",
    "plt.semilogx(alphas, test_error, label='Test')\n",
    "plt.vlines(best_alpha2, plt.ylim()[0], np.max(test_error), color='k',linewidth=3, label='Optimum on test')\n",
    "plt.legend(loc='lower left')\n",
    "plt.ylim([0, 1.2])\n",
    "plt.xlim([10^-9,0.01])\n",
    "plt.xlabel('Regularization parameter')\n",
    "plt.ylabel('Performance')\n",
    "\n",
    "plt.show()"
   ]
  },
  {
   "cell_type": "markdown",
   "metadata": {},
   "source": [
    "e) Plot the top coefficients based on this optimal paramter. Why do you think so many are zero? "
   ]
  },
  {
   "cell_type": "code",
   "execution_count": 5,
   "metadata": {
    "collapsed": false
   },
   "outputs": [
    {
     "data": {
      "text/plain": [
       "<matplotlib.legend.Legend at 0x1141b0390>"
      ]
     },
     "execution_count": 5,
     "metadata": {},
     "output_type": "execute_result"
    },
    {
     "data": {
      "image/png": "[encoded data removed]",
      "text/plain": [
       "<matplotlib.figure.Figure at 0x1141b0350>"
      ]
     },
     "metadata": {},
     "output_type": "display_data"
    }
   ],
   "source": [
    "regre2 = Lasso(alpha=best_alpha2)\n",
    "coeff = regre2.fit(X,y).coef_\n",
    "plt.plot(coeff, label='Estimated coef')\n",
    "plt.legend()\n"
   ]
  },
  {
   "cell_type": "markdown",
   "metadata": {},
   "source": [
    "ANS: I think there are not many significant optimal paramters so many paramters' coefficinents are zero."
   ]
  },
  {
   "cell_type": "markdown",
   "metadata": {},
   "source": [
    "f) Compute the $R^2$ with the optimal coefficient found above on 5 folds using cross_val_score and plot the\n",
    "results. Does the model work well on all random subsets?"
   ]
  },
  {
   "cell_type": "code",
   "execution_count": 6,
   "metadata": {
    "collapsed": false
   },
   "outputs": [
    {
     "name": "stdout",
     "output_type": "stream",
     "text": [
      "[ 0.99932035  0.99997757  0.99999795  0.99999462  0.99999295]\n"
     ]
    },
    {
     "data": {
      "image/png": "[encoded data removed]",
      "text/plain": [
       "<matplotlib.figure.Figure at 0x1036c8e10>"
      ]
     },
     "metadata": {},
     "output_type": "display_data"
    }
   ],
   "source": [
    "from sklearn.model_selection import cross_val_score\n",
    "scores1 = []\n",
    "regre3 = Lasso(alpha=best_alpha2)  #best_alpha2 is from part d\n",
    "scores1 = cross_val_score(regre3, X, y, cv=5)\n",
    "print(scores1)\n",
    "\n",
    "plt.xlabel('lambda')\n",
    "plt.ylabel('R^2')\n",
    "plt.ylim([0,1.2])\n",
    "plt.title('Performance on 5 folds with lambda=' + str(alpha))\n",
    "plt.bar(range(1,6),scores1)\n",
    "plt.show()"
   ]
  },
  {
   "cell_type": "markdown",
   "metadata": {},
   "source": [
    "regre3\n",
    "type(np.array(X_test))\n",
    "type(np.array(best_alpha2))"
   ]
  },
  {
   "cell_type": "markdown",
   "metadata": {
    "collapsed": false
   },
   "source": [
    "X_scaled = X.as_matrix().astype(np.float)\n",
    "X_scaled"
   ]
  },
  {
   "cell_type": "markdown",
   "metadata": {
    "collapsed": false
   },
   "source": [
    "X_scaled2 = scaler.fit_transform(X_scaled)\n",
    "X_scaled2"
   ]
  },
  {
   "cell_type": "markdown",
   "metadata": {
    "collapsed": false
   },
   "source": [
    "v = X_scaled - X_scaled2\n",
    "v\n",
    "y.shape"
   ]
  },
  {
   "cell_type": "markdown",
   "metadata": {},
   "source": [
    "f) Repeat e) but using cross validation. Use error bars on the features which are the standard deviation of the \n",
    "coefficiens obtained above. For this problem I\"ll walk you through the code. You just need to apply your optimal\n",
    "$\\alpha$ found above. "
   ]
  },
  {
   "cell_type": "code",
   "execution_count": 8,
   "metadata": {
    "collapsed": true
   },
   "outputs": [],
   "source": [
    "y=y.reset_index() #somtimes it's good to reset index!!!"
   ]
  },
  {
   "cell_type": "code",
   "execution_count": 61,
   "metadata": {
    "collapsed": false
   },
   "outputs": [],
   "source": [
    "#from sklearn.model_selection import KFold\n",
    "from sklearn.cross_validation import KFold\n",
    "from sklearn import preprocessing\n",
    "def run_cv_coeffs(X,y,clf_class,**kwargs):\n",
    "    # Construct a kfolds object\n",
    "    #kf = KFold(n_splits=5, random_state=None, shuffle=True)\n",
    "    kf = KFold(len(y),n_folds=5,shuffle=True)\n",
    "    y_pred = y.copy()\n",
    "    coeffs=[]\n",
    "    # Iterate through folds\n",
    "    #for train_index, test_index in kf.split(X):\n",
    "    for train_index, test_index in kf:   \n",
    "        X_train, X_test = X[train_index], X[test_index]\n",
    "        y_train = y[train_index]\n",
    "        #X_test_temp = np.array(X_test)\n",
    "        # Initialize a classifier with key word arguments\n",
    "        clf = clf_class(**kwargs)\n",
    "        clf.fit(X_train,y_train)\n",
    "        y_pred[test_index] = clf.predict(X_test)\n",
    "        coeffs.append(clf.coef_)\n",
    "    return coeffs\n",
    "\n",
    "\n",
    "\n",
    "scaler = preprocessing.StandardScaler()\n",
    "X_scaled = X.as_matrix().astype(np.float)\n",
    "#X_scaled = scaler.fit_transform(X)\n",
    "X_scaled2 = scaler.fit_transform(X_scaled)\n",
    "clf0 = Lasso(best_alpha2)\n",
    "clf0.fit(X_train,y_train)\n",
    "\n",
    "coeffs=run_cv_coeffs(X_scaled2,np.array(y),Lasso,alpha=best_alpha2)"
   ]
  },
  {
   "cell_type": "code",
   "execution_count": 68,
   "metadata": {
    "collapsed": false
   },
   "outputs": [],
   "source": [
    "def get_coeffs(coeffs):\n",
    "    coeffs_avg = [(coeffs[0][0][i]+coeffs[0][1][i]+coeffs[1][0][i]+coeffs[1][1][i]+coeffs[2][0][i]+coeffs[2][1][i]+coeffs[3][0][i]+coeffs[3][1][i]+coeffs[4][0][i]+coeffs[4][1][i])/10  for i in range(0,len(X.columns))]\n",
    "    coeffs_std = [np.std([coeffs[0][0][i]+coeffs[0][1][i]+coeffs[1][0][i]+coeffs[1][1][i]+coeffs[2][0][i]+coeffs[2][1][i]+coeffs[3][0][i]+coeffs[3][1][i]+coeffs[4][0][i]+coeffs[4][1][i]]) for i in range(0,len(X.columns))]\n",
    "    return coeffs_avg, coeffs_std\n",
    "coeffs_avg,coeffs_std=get_coeffs(coeffs)"
   ]
  },
  {
   "cell_type": "code",
   "execution_count": 69,
   "metadata": {
    "collapsed": false
   },
   "outputs": [
    {
     "name": "stderr",
     "output_type": "stream",
     "text": [
      "/Users/lingxiangyu/anaconda/lib/python2.7/site-packages/ipykernel/__main__.py:4: FutureWarning: sort(columns=....) is deprecated, use sort_values(by=.....)\n"
     ]
    },
    {
     "data": {
      "text/plain": [
       "<matplotlib.axes._subplots.AxesSubplot at 0x11b123d10>"
      ]
     },
     "execution_count": 69,
     "metadata": {},
     "output_type": "execute_result"
    },
    {
     "data": {
      "text/plain": [
       "<matplotlib.figure.Figure at 0x1141b0290>"
      ]
     },
     "metadata": {},
     "output_type": "display_data"
    },
    {
     "data": {
      "image/png": "[encoded data removed]",
      "text/plain": [
       "<matplotlib.figure.Figure at 0x11b123350>"
      ]
     },
     "metadata": {},
     "output_type": "display_data"
    }
   ],
   "source": [
    "dfCoeffs = pd.DataFrame({'type':X.columns.values, 'coef':coeffs_avg, 'std':coeffs_std})\n",
    "dfCoeffs = dfCoeffs[(dfCoeffs['coef']>1) |(dfCoeffs['coef']<-1) ]\n",
    "plt.figure(figsize=(15,15))\n",
    "dfCoeffs_sorted = dfCoeffs.sort(['coef'])[::-1]\n",
    "yerr_vals = dfCoeffs_sorted['std'].values\n",
    "dfCoeffs_sorted.plot(x='type',y='coef',kind='bar',yerr=yerr_vals,figsize=(15,15))"
   ]
  }
 ],
 "metadata": {
  "anaconda-cloud": {},
  "kernelspec": {
   "display_name": "Python [conda root]",
   "language": "python",
   "name": "conda-root-py"
  },
  "language_info": {
   "codemirror_mode": {
    "name": "ipython",
    "version": 2
   },
   "file_extension": ".py",
   "mimetype": "text/x-python",
   "name": "python",
   "nbconvert_exporter": "python",
   "pygments_lexer": "ipython2",
   "version": "2.7.12"
  }
 },
 "nbformat": 4,
 "nbformat_minor": 1
}
